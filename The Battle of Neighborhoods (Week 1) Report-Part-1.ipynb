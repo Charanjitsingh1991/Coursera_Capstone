{
    "cells": [
        {
            "cell_type": "markdown",
            "metadata": {
                "collapsed": true
            },
            "source": "# Coursera Capstone "
        },
        {
            "cell_type": "markdown",
            "metadata": {},
            "source": "## IBM Applied Data Science Capstone "
        },
        {
            "cell_type": "markdown",
            "metadata": {},
            "source": "### Opening a New Shopping Mall in Kuala Lumpur, Malaysia "
        },
        {
            "cell_type": "markdown",
            "metadata": {},
            "source": "By: Charanjit Singh<br>\nCreation Date: 28 May 2020 "
        },
        {
            "cell_type": "markdown",
            "metadata": {},
            "source": "# Introduction "
        },
        {
            "cell_type": "markdown",
            "metadata": {},
            "source": "<p>For many shoppers, visiting shopping malls is a great way to relax and enjoy themselves during \nweekends and holidays. They can do grocery shopping, dine at restaurants, shop at the various \nfashion outlets, watch movies and perform many more activities. Shopping malls are like a one-stop \ndestination for all types of shoppers. For retailers, the central location and the large crowd at the \nshopping malls provides a great distribution channel to market their products and services. Property \ndevelopers are also taking advantage of this trend to build more shopping malls to cater to the \ndemand. As a result, there are many shopping malls in the city of Kuala Lumpur and many more are \nbeing built. Opening shopping malls allows property developers to earn consistent rental income.  Of \ncourse, as with any business decision, opening a new shopping mall requires serious consideration \nand is a lot more complicated than it seems. Particularly, the location of the shopping mall is one of \nthe most important decisions that will determine whether the mall will be a success or a failure.  \n</p>"
        },
        {
            "cell_type": "markdown",
            "metadata": {},
            "source": "# Business Problem "
        },
        {
            "cell_type": "markdown",
            "metadata": {},
            "source": "The objective of this capstone project is to analyse and select the best locations in the city of Kuala \nLumpur, Malaysia to open a new shopping mall. Using data science methodology and machine \nlearning techniques like clustering, this project aims to provide solutions to answer the business \nquestion: In the city of Kuala Lumpur, Malaysia, if a property developer is looking to open a new \nshopping mall, where would you recommend that they open it?"
        },
        {
            "cell_type": "markdown",
            "metadata": {},
            "source": "# Target Audience of this project "
        },
        {
            "cell_type": "markdown",
            "metadata": {},
            "source": "This project is particularly useful to property developers and investors looking to open or invest in \nnew shopping malls in the capital city of Malaysia i.e. Kuala Lumpur. This project is timely as the city \nis currently suffering from oversupply of shopping malls. Data from the National Property \nInformation Centre (NAPIC) released last year showed that an additional 15 per cent will be added to \nexisting mall space, and the agency predicted that total occupancy may dip below 86 per cent. The \nlocal newspaper The Malay Mail also reported in March last year that the true occupancy rates in \nmalls may be as low as 40 per cent in some areas, quoting a Financial Times (FT) article cataloguing \nthe country's continued obsession with building more shopping space despite chronic oversupply."
        },
        {
            "cell_type": "code",
            "execution_count": null,
            "metadata": {},
            "outputs": [],
            "source": ""
        }
    ],
    "metadata": {
        "kernelspec": {
            "display_name": "Python 3.6",
            "language": "python",
            "name": "python3"
        },
        "language_info": {
            "codemirror_mode": {
                "name": "ipython",
                "version": 3
            },
            "file_extension": ".py",
            "mimetype": "text/x-python",
            "name": "python",
            "nbconvert_exporter": "python",
            "pygments_lexer": "ipython3",
            "version": "3.6.9"
        }
    },
    "nbformat": 4,
    "nbformat_minor": 1
}